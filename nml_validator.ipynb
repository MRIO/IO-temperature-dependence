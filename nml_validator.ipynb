{
 "cells": [
  {
   "cell_type": "code",
   "execution_count": 3,
   "metadata": {},
   "outputs": [
    {
     "name": "stdout",
     "output_type": "stream",
     "text": [
      "Requirement already satisfied: pyneuroml in c:\\users\\naomi\\appdata\\local\\programs\\python\\python38\\lib\\site-packages (0.5.5)\n",
      "Requirement already satisfied: argparse in c:\\users\\naomi\\appdata\\local\\programs\\python\\python38\\lib\\site-packages (from pyneuroml) (1.4.0)\n",
      "Requirement already satisfied: pylems>=0.4.9.1 in c:\\users\\naomi\\appdata\\local\\programs\\python\\python38\\lib\\site-packages (from pyneuroml) (0.5.1)\n",
      "Requirement already satisfied: airspeed==0.5.4dev-20150515 in c:\\users\\naomi\\appdata\\local\\programs\\python\\python38\\lib\\site-packages (from pyneuroml) (0.5.4.dev20150515)\n",
      "Requirement already satisfied: libNeuroML>=0.2.50 in c:\\users\\naomi\\appdata\\local\\programs\\python\\python38\\lib\\site-packages (from pyneuroml) (0.2.52)\n",
      "Requirement already satisfied: neuromllite>=0.1.9 in c:\\users\\naomi\\appdata\\local\\programs\\python\\python38\\lib\\site-packages (from pyneuroml) (0.1.9)\n",
      "Requirement already satisfied: kiwisolver<=1.1.0 in c:\\users\\naomi\\appdata\\local\\programs\\python\\python38\\lib\\site-packages (from pyneuroml) (1.1.0)\n",
      "Requirement already satisfied: matplotlib in c:\\users\\naomi\\appdata\\local\\programs\\python\\python38\\lib\\site-packages (from pyneuroml) (3.3.1)\n",
      "Requirement already satisfied: six in c:\\users\\naomi\\appdata\\local\\programs\\python\\python38\\lib\\site-packages (from airspeed==0.5.4dev-20150515->pyneuroml) (1.15.0)\n",
      "Requirement already satisfied: cachetools==0.8.0 in c:\\users\\naomi\\appdata\\local\\programs\\python\\python38\\lib\\site-packages (from airspeed==0.5.4dev-20150515->pyneuroml) (0.8.0)\n",
      "Requirement already satisfied: lxml in c:\\users\\naomi\\appdata\\local\\programs\\python\\python38\\lib\\site-packages (from libNeuroML>=0.2.50->pyneuroml) (4.5.2)\n",
      "Requirement already satisfied: setuptools in c:\\users\\naomi\\appdata\\local\\programs\\python\\python38\\lib\\site-packages (from kiwisolver<=1.1.0->pyneuroml) (47.1.0)\n",
      "Requirement already satisfied: certifi>=2020.06.20 in c:\\users\\naomi\\appdata\\local\\programs\\python\\python38\\lib\\site-packages (from matplotlib->pyneuroml) (2020.6.20)\n",
      "Requirement already satisfied: pillow>=6.2.0 in c:\\users\\naomi\\appdata\\local\\programs\\python\\python38\\lib\\site-packages (from matplotlib->pyneuroml) (7.2.0)\n",
      "Requirement already satisfied: python-dateutil>=2.1 in c:\\users\\naomi\\appdata\\local\\programs\\python\\python38\\lib\\site-packages (from matplotlib->pyneuroml) (2.8.1)\n",
      "Requirement already satisfied: pyparsing!=2.0.4,!=2.1.2,!=2.1.6,>=2.0.3 in c:\\users\\naomi\\appdata\\local\\programs\\python\\python38\\lib\\site-packages (from matplotlib->pyneuroml) (2.4.7)\n",
      "Requirement already satisfied: numpy>=1.15 in c:\\users\\naomi\\appdata\\local\\programs\\python\\python38\\lib\\site-packages (from matplotlib->pyneuroml) (1.19.1)\n",
      "Requirement already satisfied: cycler>=0.10 in c:\\users\\naomi\\appdata\\local\\programs\\python\\python38\\lib\\site-packages (from matplotlib->pyneuroml) (0.10.0)\n",
      "Requirement already satisfied: libNeuroML in c:\\users\\naomi\\appdata\\local\\programs\\python\\python38\\lib\\site-packages (0.2.52)\n",
      "Requirement already satisfied: lxml in c:\\users\\naomi\\appdata\\local\\programs\\python\\python38\\lib\\site-packages (from libNeuroML) (4.5.2)\n",
      "Requirement already satisfied: six in c:\\users\\naomi\\appdata\\local\\programs\\python\\python38\\lib\\site-packages (from libNeuroML) (1.15.0)\n",
      "Requirement already satisfied: pylems in c:\\users\\naomi\\appdata\\local\\programs\\python\\python38\\lib\\site-packages (0.5.1)\n",
      "Requirement already satisfied: brian2tools in c:\\users\\naomi\\appdata\\local\\programs\\python\\python38\\lib\\site-packages (0.2.1.1)\n",
      "Requirement already satisfied: setuptools in c:\\users\\naomi\\appdata\\local\\programs\\python\\python38\\lib\\site-packages (from brian2tools) (47.1.0)\n",
      "Requirement already satisfied: brian2>=2.0 in c:\\users\\naomi\\appdata\\local\\programs\\python\\python38\\lib\\site-packages (from brian2tools) (2.4)\n",
      "Requirement already satisfied: pylems>=0.4.9 in c:\\users\\naomi\\appdata\\local\\programs\\python\\python38\\lib\\site-packages (from brian2tools) (0.5.1)\n",
      "Requirement already satisfied: matplotlib>=1.3.1 in c:\\users\\naomi\\appdata\\local\\programs\\python\\python38\\lib\\site-packages (from brian2tools) (3.3.1)\n",
      "Requirement already satisfied: setuptools-scm in c:\\users\\naomi\\appdata\\local\\programs\\python\\python38\\lib\\site-packages (from brian2tools) (4.1.2)\n",
      "Requirement already satisfied: numpy>=1.15 in c:\\users\\naomi\\appdata\\local\\programs\\python\\python38\\lib\\site-packages (from brian2>=2.0->brian2tools) (1.19.1)\n",
      "Requirement already satisfied: cython>=0.29 in c:\\users\\naomi\\appdata\\local\\programs\\python\\python38\\lib\\site-packages (from brian2>=2.0->brian2tools) (0.29.21)\n",
      "Requirement already satisfied: sympy>=1.2 in c:\\users\\naomi\\appdata\\local\\programs\\python\\python38\\lib\\site-packages (from brian2>=2.0->brian2tools) (1.6.2)\n",
      "Requirement already satisfied: pyparsing in c:\\users\\naomi\\appdata\\local\\programs\\python\\python38\\lib\\site-packages (from brian2>=2.0->brian2tools) (2.4.7)\n",
      "Requirement already satisfied: jinja2>=2.7 in c:\\users\\naomi\\appdata\\local\\programs\\python\\python38\\lib\\site-packages (from brian2>=2.0->brian2tools) (2.11.2)\n",
      "Requirement already satisfied: py-cpuinfo in c:\\users\\naomi\\appdata\\local\\programs\\python\\python38\\lib\\site-packages (from brian2>=2.0->brian2tools) (7.0.0)\n",
      "Requirement already satisfied: kiwisolver>=1.0.1 in c:\\users\\naomi\\appdata\\local\\programs\\python\\python38\\lib\\site-packages (from matplotlib>=1.3.1->brian2tools) (1.1.0)\n",
      "Requirement already satisfied: python-dateutil>=2.1 in c:\\users\\naomi\\appdata\\local\\programs\\python\\python38\\lib\\site-packages (from matplotlib>=1.3.1->brian2tools) (2.8.1)\n",
      "Requirement already satisfied: pillow>=6.2.0 in c:\\users\\naomi\\appdata\\local\\programs\\python\\python38\\lib\\site-packages (from matplotlib>=1.3.1->brian2tools) (7.2.0)\n",
      "Requirement already satisfied: cycler>=0.10 in c:\\users\\naomi\\appdata\\local\\programs\\python\\python38\\lib\\site-packages (from matplotlib>=1.3.1->brian2tools) (0.10.0)\n",
      "Requirement already satisfied: certifi>=2020.06.20 in c:\\users\\naomi\\appdata\\local\\programs\\python\\python38\\lib\\site-packages (from matplotlib>=1.3.1->brian2tools) (2020.6.20)\n",
      "Requirement already satisfied: mpmath>=0.19 in c:\\users\\naomi\\appdata\\local\\programs\\python\\python38\\lib\\site-packages (from sympy>=1.2->brian2>=2.0->brian2tools) (1.1.0)\n",
      "Requirement already satisfied: MarkupSafe>=0.23 in c:\\users\\naomi\\appdata\\local\\programs\\python\\python38\\lib\\site-packages (from jinja2>=2.7->brian2>=2.0->brian2tools) (1.1.1)\n",
      "Requirement already satisfied: six>=1.5 in c:\\users\\naomi\\appdata\\local\\programs\\python\\python38\\lib\\site-packages (from python-dateutil>=2.1->matplotlib>=1.3.1->brian2tools) (1.15.0)\n",
      "Collecting ipywidgets\n",
      "  Downloading ipywidgets-7.5.1-py2.py3-none-any.whl (121 kB)\n",
      "Collecting widgetsnbextension~=3.5.0\n",
      "  Downloading widgetsnbextension-3.5.1-py2.py3-none-any.whl (2.2 MB)\n",
      "Requirement already satisfied: traitlets>=4.3.1 in c:\\users\\naomi\\appdata\\local\\programs\\python\\python38\\lib\\site-packages (from ipywidgets) (5.0.4)\n",
      "Requirement already satisfied: ipykernel>=4.5.1 in c:\\users\\naomi\\appdata\\local\\programs\\python\\python38\\lib\\site-packages (from ipywidgets) (5.3.4)\n",
      "Requirement already satisfied: nbformat>=4.2.0 in c:\\users\\naomi\\appdata\\local\\programs\\python\\python38\\lib\\site-packages (from ipywidgets) (5.0.7)\n",
      "Requirement already satisfied: ipython>=4.0.0; python_version >= \"3.3\" in c:\\users\\naomi\\appdata\\local\\programs\\python\\python38\\lib\\site-packages (from ipywidgets) (7.18.1)\n",
      "Requirement already satisfied: notebook>=4.4.1 in c:\\users\\naomi\\appdata\\local\\programs\\python\\python38\\lib\\site-packages (from widgetsnbextension~=3.5.0->ipywidgets) (6.1.4)\n",
      "Requirement already satisfied: ipython-genutils in c:\\users\\naomi\\appdata\\local\\programs\\python\\python38\\lib\\site-packages (from traitlets>=4.3.1->ipywidgets) (0.2.0)\n",
      "Requirement already satisfied: jupyter-client in c:\\users\\naomi\\appdata\\local\\programs\\python\\python38\\lib\\site-packages (from ipykernel>=4.5.1->ipywidgets) (6.1.7)\n",
      "Requirement already satisfied: tornado>=4.2 in c:\\users\\naomi\\appdata\\local\\programs\\python\\python38\\lib\\site-packages (from ipykernel>=4.5.1->ipywidgets) (6.0.4)\n",
      "Requirement already satisfied: jsonschema!=2.5.0,>=2.4 in c:\\users\\naomi\\appdata\\local\\programs\\python\\python38\\lib\\site-packages (from nbformat>=4.2.0->ipywidgets) (3.2.0)\n",
      "Requirement already satisfied: jupyter-core in c:\\users\\naomi\\appdata\\local\\programs\\python\\python38\\lib\\site-packages (from nbformat>=4.2.0->ipywidgets) (4.6.3)\n",
      "Requirement already satisfied: pickleshare in c:\\users\\naomi\\appdata\\local\\programs\\python\\python38\\lib\\site-packages (from ipython>=4.0.0; python_version >= \"3.3\"->ipywidgets) (0.7.5)\n",
      "Requirement already satisfied: prompt-toolkit!=3.0.0,!=3.0.1,<3.1.0,>=2.0.0 in c:\\users\\naomi\\appdata\\local\\programs\\python\\python38\\lib\\site-packages (from ipython>=4.0.0; python_version >= \"3.3\"->ipywidgets) (3.0.7)\n",
      "Requirement already satisfied: backcall in c:\\users\\naomi\\appdata\\local\\programs\\python\\python38\\lib\\site-packages (from ipython>=4.0.0; python_version >= \"3.3\"->ipywidgets) (0.2.0)\n",
      "Requirement already satisfied: jedi>=0.10 in c:\\users\\naomi\\appdata\\local\\programs\\python\\python38\\lib\\site-packages (from ipython>=4.0.0; python_version >= \"3.3\"->ipywidgets) (0.17.2)\n",
      "Requirement already satisfied: pygments in c:\\users\\naomi\\appdata\\local\\programs\\python\\python38\\lib\\site-packages (from ipython>=4.0.0; python_version >= \"3.3\"->ipywidgets) (2.7.1)\n",
      "Requirement already satisfied: setuptools>=18.5 in c:\\users\\naomi\\appdata\\local\\programs\\python\\python38\\lib\\site-packages (from ipython>=4.0.0; python_version >= \"3.3\"->ipywidgets) (47.1.0)\n",
      "Requirement already satisfied: decorator in c:\\users\\naomi\\appdata\\local\\programs\\python\\python38\\lib\\site-packages (from ipython>=4.0.0; python_version >= \"3.3\"->ipywidgets) (4.4.2)\n",
      "Requirement already satisfied: colorama; sys_platform == \"win32\" in c:\\users\\naomi\\appdata\\local\\programs\\python\\python38\\lib\\site-packages (from ipython>=4.0.0; python_version >= \"3.3\"->ipywidgets) (0.4.3)\n",
      "Requirement already satisfied: nbconvert in c:\\users\\naomi\\appdata\\local\\programs\\python\\python38\\lib\\site-packages (from notebook>=4.4.1->widgetsnbextension~=3.5.0->ipywidgets) (6.0.3)\n",
      "Requirement already satisfied: pyzmq>=17 in c:\\users\\naomi\\appdata\\local\\programs\\python\\python38\\lib\\site-packages (from notebook>=4.4.1->widgetsnbextension~=3.5.0->ipywidgets) (19.0.2)\n",
      "Requirement already satisfied: terminado>=0.8.3 in c:\\users\\naomi\\appdata\\local\\programs\\python\\python38\\lib\\site-packages (from notebook>=4.4.1->widgetsnbextension~=3.5.0->ipywidgets) (0.9.0)\n",
      "Requirement already satisfied: Send2Trash in c:\\users\\naomi\\appdata\\local\\programs\\python\\python38\\lib\\site-packages (from notebook>=4.4.1->widgetsnbextension~=3.5.0->ipywidgets) (1.5.0)\n",
      "Requirement already satisfied: prometheus-client in c:\\users\\naomi\\appdata\\local\\programs\\python\\python38\\lib\\site-packages (from notebook>=4.4.1->widgetsnbextension~=3.5.0->ipywidgets) (0.8.0)\n",
      "Requirement already satisfied: argon2-cffi in c:\\users\\naomi\\appdata\\local\\programs\\python\\python38\\lib\\site-packages (from notebook>=4.4.1->widgetsnbextension~=3.5.0->ipywidgets) (20.1.0)\n",
      "Requirement already satisfied: jinja2 in c:\\users\\naomi\\appdata\\local\\programs\\python\\python38\\lib\\site-packages (from notebook>=4.4.1->widgetsnbextension~=3.5.0->ipywidgets) (2.11.2)\n",
      "Requirement already satisfied: python-dateutil>=2.1 in c:\\users\\naomi\\appdata\\local\\programs\\python\\python38\\lib\\site-packages (from jupyter-client->ipykernel>=4.5.1->ipywidgets) (2.8.1)\n",
      "Requirement already satisfied: pyrsistent>=0.14.0 in c:\\users\\naomi\\appdata\\local\\programs\\python\\python38\\lib\\site-packages (from jsonschema!=2.5.0,>=2.4->nbformat>=4.2.0->ipywidgets) (0.17.3)\n",
      "Requirement already satisfied: six>=1.11.0 in c:\\users\\naomi\\appdata\\local\\programs\\python\\python38\\lib\\site-packages (from jsonschema!=2.5.0,>=2.4->nbformat>=4.2.0->ipywidgets) (1.15.0)\n",
      "Requirement already satisfied: attrs>=17.4.0 in c:\\users\\naomi\\appdata\\local\\programs\\python\\python38\\lib\\site-packages (from jsonschema!=2.5.0,>=2.4->nbformat>=4.2.0->ipywidgets) (20.2.0)\n",
      "Requirement already satisfied: pywin32>=1.0; sys_platform == \"win32\" in c:\\users\\naomi\\appdata\\local\\programs\\python\\python38\\lib\\site-packages (from jupyter-core->nbformat>=4.2.0->ipywidgets) (228)\n",
      "Requirement already satisfied: wcwidth in c:\\users\\naomi\\appdata\\local\\programs\\python\\python38\\lib\\site-packages (from prompt-toolkit!=3.0.0,!=3.0.1,<3.1.0,>=2.0.0->ipython>=4.0.0; python_version >= \"3.3\"->ipywidgets) (0.2.5)\n",
      "Requirement already satisfied: parso<0.8.0,>=0.7.0 in c:\\users\\naomi\\appdata\\local\\programs\\python\\python38\\lib\\site-packages (from jedi>=0.10->ipython>=4.0.0; python_version >= \"3.3\"->ipywidgets) (0.7.1)\n",
      "Requirement already satisfied: entrypoints>=0.2.2 in c:\\users\\naomi\\appdata\\local\\programs\\python\\python38\\lib\\site-packages (from nbconvert->notebook>=4.4.1->widgetsnbextension~=3.5.0->ipywidgets) (0.3)\n",
      "Requirement already satisfied: bleach in c:\\users\\naomi\\appdata\\local\\programs\\python\\python38\\lib\\site-packages (from nbconvert->notebook>=4.4.1->widgetsnbextension~=3.5.0->ipywidgets) (3.2.1)\n",
      "Requirement already satisfied: pandocfilters>=1.4.1 in c:\\users\\naomi\\appdata\\local\\programs\\python\\python38\\lib\\site-packages (from nbconvert->notebook>=4.4.1->widgetsnbextension~=3.5.0->ipywidgets) (1.4.2)\n",
      "Requirement already satisfied: defusedxml in c:\\users\\naomi\\appdata\\local\\programs\\python\\python38\\lib\\site-packages (from nbconvert->notebook>=4.4.1->widgetsnbextension~=3.5.0->ipywidgets) (0.6.0)\n",
      "Requirement already satisfied: jupyterlab-pygments in c:\\users\\naomi\\appdata\\local\\programs\\python\\python38\\lib\\site-packages (from nbconvert->notebook>=4.4.1->widgetsnbextension~=3.5.0->ipywidgets) (0.1.1)\n",
      "Requirement already satisfied: testpath in c:\\users\\naomi\\appdata\\local\\programs\\python\\python38\\lib\\site-packages (from nbconvert->notebook>=4.4.1->widgetsnbextension~=3.5.0->ipywidgets) (0.4.4)\n",
      "Requirement already satisfied: nbclient<0.6.0,>=0.5.0 in c:\\users\\naomi\\appdata\\local\\programs\\python\\python38\\lib\\site-packages (from nbconvert->notebook>=4.4.1->widgetsnbextension~=3.5.0->ipywidgets) (0.5.0)\n",
      "Requirement already satisfied: mistune<2,>=0.8.1 in c:\\users\\naomi\\appdata\\local\\programs\\python\\python38\\lib\\site-packages (from nbconvert->notebook>=4.4.1->widgetsnbextension~=3.5.0->ipywidgets) (0.8.4)\n",
      "Requirement already satisfied: pywinpty>=0.5; os_name == \"nt\" in c:\\users\\naomi\\appdata\\local\\programs\\python\\python38\\lib\\site-packages (from terminado>=0.8.3->notebook>=4.4.1->widgetsnbextension~=3.5.0->ipywidgets) (0.5.7)\n",
      "Requirement already satisfied: cffi>=1.0.0 in c:\\users\\naomi\\appdata\\local\\programs\\python\\python38\\lib\\site-packages (from argon2-cffi->notebook>=4.4.1->widgetsnbextension~=3.5.0->ipywidgets) (1.14.2)\n",
      "Requirement already satisfied: MarkupSafe>=0.23 in c:\\users\\naomi\\appdata\\local\\programs\\python\\python38\\lib\\site-packages (from jinja2->notebook>=4.4.1->widgetsnbextension~=3.5.0->ipywidgets) (1.1.1)\n",
      "Requirement already satisfied: packaging in c:\\users\\naomi\\appdata\\local\\programs\\python\\python38\\lib\\site-packages (from bleach->nbconvert->notebook>=4.4.1->widgetsnbextension~=3.5.0->ipywidgets) (20.4)\n",
      "Requirement already satisfied: webencodings in c:\\users\\naomi\\appdata\\local\\programs\\python\\python38\\lib\\site-packages (from bleach->nbconvert->notebook>=4.4.1->widgetsnbextension~=3.5.0->ipywidgets) (0.5.1)\n",
      "Requirement already satisfied: async-generator in c:\\users\\naomi\\appdata\\local\\programs\\python\\python38\\lib\\site-packages (from nbclient<0.6.0,>=0.5.0->nbconvert->notebook>=4.4.1->widgetsnbextension~=3.5.0->ipywidgets) (1.10)\n",
      "Requirement already satisfied: nest-asyncio in c:\\users\\naomi\\appdata\\local\\programs\\python\\python38\\lib\\site-packages (from nbclient<0.6.0,>=0.5.0->nbconvert->notebook>=4.4.1->widgetsnbextension~=3.5.0->ipywidgets) (1.4.0)\n",
      "Requirement already satisfied: pycparser in c:\\users\\naomi\\appdata\\local\\programs\\python\\python38\\lib\\site-packages (from cffi>=1.0.0->argon2-cffi->notebook>=4.4.1->widgetsnbextension~=3.5.0->ipywidgets) (2.20)\n",
      "Requirement already satisfied: pyparsing>=2.0.2 in c:\\users\\naomi\\appdata\\local\\programs\\python\\python38\\lib\\site-packages (from packaging->bleach->nbconvert->notebook>=4.4.1->widgetsnbextension~=3.5.0->ipywidgets) (2.4.7)\n",
      "Installing collected packages: widgetsnbextension, ipywidgets\n",
      "Successfully installed ipywidgets-7.5.1 widgetsnbextension-3.5.1\n"
     ]
    }
   ],
   "source": [
    "!pip install pyneuroml\n",
    "!pip install libNeuroML\n",
    "!pip install pylems\n",
    "!pip install brian2tools \n",
    "!pip install ipywidgets\n",
    "\n",
    "import pyneuroml \n",
    "from pyneuroml import pynml\n",
    "\n",
    "import neuroml\n",
    "import neuroml.loaders as loaders\n",
    "import neuroml.writers as writers\n",
    "from neuroml.utils import *\n",
    "\n",
    "from brian2tools import *\n",
    "from brian2.units.constants import faraday_constant as F\n",
    "\n",
    "from IPython.display import display\n",
    "import brian2.numpy_ as np # the numpy that comes bundled with it\n",
    "from ipywidgets import interact, interactive # for some neat interactions\n",
    "from IPython.display import display \n",
    "import ipywidgets as widgets\n",
    "import matplotlib.pyplot as plt # for neat plots\n",
    "import matplotlib.gridspec as gridspec\n",
    "\n",
    "import time # for time basis conversions\n",
    "\n",
    "from brian2 import *    \n",
    "from brian2 import Morphology # for importing morphologies"
   ]
  },
  {
   "cell_type": "code",
   "execution_count": 4,
   "metadata": {},
   "outputs": [
    {
     "name": "stdout",
     "output_type": "stream",
     "text": [
      "Validating Cells\\C51A_scaled_exp_resample_5.cell.nml against c:\\users\\naomi\\appdata\\local\\programs\\python\\python38\\lib\\site-packages\\neuroml\\nml/NeuroML_v2.1.xsd\n",
      "It's valid!\n"
     ]
    }
   ],
   "source": [
    "example_nml_file = 'Cells\\C51A_scaled_exp_resample_5.cell.nml'\n",
    "example_swc_file = 'C51A_scaled_exp_resample_5.cell.swc'\n",
    "validate_neuroml2(example_nml_file)"
   ]
  },
  {
   "cell_type": "code",
   "execution_count": null,
   "metadata": {
    "scrolled": true
   },
   "outputs": [],
   "source": [
    "example_channel_file = 'channels\\CaCC.channel.nml'\n",
    "validate_neuroml2(example_channel_file)"
   ]
  },
  {
   "cell_type": "code",
   "execution_count": null,
   "metadata": {},
   "outputs": [],
   "source": [
    "MorphIO = Morphology.from_swc_file(example_swc_file)\n",
    "Morphology.topology(MorphIO)\n",
    "\n",
    "\n",
    "figure(figsize=(14, 4), dpi= 80, facecolor='w', edgecolor='k')\n",
    "plt.subplot(1, 2, 1)\n",
    "brian_plot(MorphIO) \n",
    "plt.subplot(1, 2, 2)\n",
    "plot_morphology(MorphIO, plot_3d=False)\n"
   ]
  },
  {
   "cell_type": "code",
   "execution_count": null,
   "metadata": {},
   "outputs": [],
   "source": [
    "pynml -help"
   ]
  },
  {
   "cell_type": "code",
   "execution_count": null,
   "metadata": {
    "scrolled": true
   },
   "outputs": [],
   "source": []
  },
  {
   "cell_type": "code",
   "execution_count": null,
   "metadata": {},
   "outputs": [],
   "source": [
    "\n"
   ]
  },
  {
   "cell_type": "code",
   "execution_count": null,
   "metadata": {},
   "outputs": [],
   "source": []
  },
  {
   "cell_type": "code",
   "execution_count": null,
   "metadata": {},
   "outputs": [],
   "source": []
  }
 ],
 "metadata": {
  "kernelspec": {
   "display_name": "Python 3",
   "language": "python",
   "name": "python3"
  },
  "language_info": {
   "codemirror_mode": {
    "name": "ipython",
    "version": 3
   },
   "file_extension": ".py",
   "mimetype": "text/x-python",
   "name": "python",
   "nbconvert_exporter": "python",
   "pygments_lexer": "ipython3",
   "version": "3.8.5"
  }
 },
 "nbformat": 4,
 "nbformat_minor": 4
}
