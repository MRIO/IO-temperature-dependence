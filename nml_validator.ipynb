{
 "cells": [
  {
   "cell_type": "code",
   "execution_count": 3,
   "metadata": {},
   "outputs": [
    {
     "name": "stdout",
     "output_type": "stream",
     "text": [
      "Requirement already satisfied: pyneuroml in c:\\users\\naomi\\appdata\\local\\programs\\python\\python38\\lib\\site-packages (0.5.5)\n",
      "Requirement already satisfied: argparse in c:\\users\\naomi\\appdata\\local\\programs\\python\\python38\\lib\\site-packages (from pyneuroml) (1.4.0)\n",
      "Requirement already satisfied: pylems>=0.4.9.1 in c:\\users\\naomi\\appdata\\local\\programs\\python\\python38\\lib\\site-packages (from pyneuroml) (0.5.1)\n",
      "Requirement already satisfied: airspeed==0.5.4dev-20150515 in c:\\users\\naomi\\appdata\\local\\programs\\python\\python38\\lib\\site-packages (from pyneuroml) (0.5.4.dev20150515)\n",
      "Requirement already satisfied: libNeuroML>=0.2.50 in c:\\users\\naomi\\appdata\\local\\programs\\python\\python38\\lib\\site-packages (from pyneuroml) (0.2.52)\n",
      "Requirement already satisfied: neuromllite>=0.1.9 in c:\\users\\naomi\\appdata\\local\\programs\\python\\python38\\lib\\site-packages (from pyneuroml) (0.1.9)\n",
      "Requirement already satisfied: kiwisolver<=1.1.0 in c:\\users\\naomi\\appdata\\local\\programs\\python\\python38\\lib\\site-packages (from pyneuroml) (1.1.0)\n",
      "Requirement already satisfied: matplotlib in c:\\users\\naomi\\appdata\\local\\programs\\python\\python38\\lib\\site-packages (from pyneuroml) (3.3.1)\n",
      "Requirement already satisfied: six in c:\\users\\naomi\\appdata\\local\\programs\\python\\python38\\lib\\site-packages (from airspeed==0.5.4dev-20150515->pyneuroml) (1.15.0)\n",
      "Requirement already satisfied: cachetools==0.8.0 in c:\\users\\naomi\\appdata\\local\\programs\\python\\python38\\lib\\site-packages (from airspeed==0.5.4dev-20150515->pyneuroml) (0.8.0)\n",
      "Requirement already satisfied: lxml in c:\\users\\naomi\\appdata\\local\\programs\\python\\python38\\lib\\site-packages (from libNeuroML>=0.2.50->pyneuroml) (4.5.2)\n",
      "Requirement already satisfied: setuptools in c:\\users\\naomi\\appdata\\local\\programs\\python\\python38\\lib\\site-packages (from kiwisolver<=1.1.0->pyneuroml) (47.1.0)\n",
      "Requirement already satisfied: certifi>=2020.06.20 in c:\\users\\naomi\\appdata\\local\\programs\\python\\python38\\lib\\site-packages (from matplotlib->pyneuroml) (2020.6.20)\n",
      "Requirement already satisfied: pillow>=6.2.0 in c:\\users\\naomi\\appdata\\local\\programs\\python\\python38\\lib\\site-packages (from matplotlib->pyneuroml) (7.2.0)\n",
      "Requirement already satisfied: numpy>=1.15 in c:\\users\\naomi\\appdata\\local\\programs\\python\\python38\\lib\\site-packages (from matplotlib->pyneuroml) (1.19.1)\n",
      "Requirement already satisfied: pyparsing!=2.0.4,!=2.1.2,!=2.1.6,>=2.0.3 in c:\\users\\naomi\\appdata\\local\\programs\\python\\python38\\lib\\site-packages (from matplotlib->pyneuroml) (2.4.7)\n",
      "Requirement already satisfied: cycler>=0.10 in c:\\users\\naomi\\appdata\\local\\programs\\python\\python38\\lib\\site-packages (from matplotlib->pyneuroml) (0.10.0)\n",
      "Requirement already satisfied: python-dateutil>=2.1 in c:\\users\\naomi\\appdata\\local\\programs\\python\\python38\\lib\\site-packages (from matplotlib->pyneuroml) (2.8.1)\n",
      "Requirement already satisfied: libNeuroML in c:\\users\\naomi\\appdata\\local\\programs\\python\\python38\\lib\\site-packages (0.2.52)\n",
      "Requirement already satisfied: lxml in c:\\users\\naomi\\appdata\\local\\programs\\python\\python38\\lib\\site-packages (from libNeuroML) (4.5.2)\n",
      "Requirement already satisfied: six in c:\\users\\naomi\\appdata\\local\\programs\\python\\python38\\lib\\site-packages (from libNeuroML) (1.15.0)\n",
      "Requirement already satisfied: pylems in c:\\users\\naomi\\appdata\\local\\programs\\python\\python38\\lib\\site-packages (0.5.1)\n",
      "Collecting brian2tools\n",
      "  Downloading brian2tools-0.2.1.1-py2.py3-none-any.whl (36 kB)\n",
      "Requirement already satisfied: setuptools in c:\\users\\naomi\\appdata\\local\\programs\\python\\python38\\lib\\site-packages (from brian2tools) (47.1.0)\n",
      "Collecting brian2>=2.0\n",
      "  Downloading Brian2-2.4.tar.gz (1.6 MB)\n",
      "Requirement already satisfied: pylems>=0.4.9 in c:\\users\\naomi\\appdata\\local\\programs\\python\\python38\\lib\\site-packages (from brian2tools) (0.5.1)\n",
      "Requirement already satisfied: matplotlib>=1.3.1 in c:\\users\\naomi\\appdata\\local\\programs\\python\\python38\\lib\\site-packages (from brian2tools) (3.3.1)\n",
      "Collecting setuptools-scm\n",
      "  Downloading setuptools_scm-4.1.2-py2.py3-none-any.whl (27 kB)\n",
      "Requirement already satisfied: numpy>=1.15 in c:\\users\\naomi\\appdata\\local\\programs\\python\\python38\\lib\\site-packages (from brian2>=2.0->brian2tools) (1.19.1)\n",
      "Collecting cython>=0.29\n",
      "  Downloading Cython-0.29.21-cp38-cp38-win_amd64.whl (1.7 MB)\n",
      "Collecting sympy>=1.2\n",
      "  Downloading sympy-1.6.2-py3-none-any.whl (5.8 MB)\n",
      "Requirement already satisfied: pyparsing in c:\\users\\naomi\\appdata\\local\\programs\\python\\python38\\lib\\site-packages (from brian2>=2.0->brian2tools) (2.4.7)\n",
      "Requirement already satisfied: jinja2>=2.7 in c:\\users\\naomi\\appdata\\local\\programs\\python\\python38\\lib\\site-packages (from brian2>=2.0->brian2tools) (2.11.2)\n",
      "Collecting py-cpuinfo\n",
      "  Downloading py-cpuinfo-7.0.0.tar.gz (95 kB)\n",
      "Requirement already satisfied: pillow>=6.2.0 in c:\\users\\naomi\\appdata\\local\\programs\\python\\python38\\lib\\site-packages (from matplotlib>=1.3.1->brian2tools) (7.2.0)\n",
      "Requirement already satisfied: python-dateutil>=2.1 in c:\\users\\naomi\\appdata\\local\\programs\\python\\python38\\lib\\site-packages (from matplotlib>=1.3.1->brian2tools) (2.8.1)\n",
      "Requirement already satisfied: certifi>=2020.06.20 in c:\\users\\naomi\\appdata\\local\\programs\\python\\python38\\lib\\site-packages (from matplotlib>=1.3.1->brian2tools) (2020.6.20)\n",
      "Requirement already satisfied: kiwisolver>=1.0.1 in c:\\users\\naomi\\appdata\\local\\programs\\python\\python38\\lib\\site-packages (from matplotlib>=1.3.1->brian2tools) (1.1.0)\n",
      "Requirement already satisfied: cycler>=0.10 in c:\\users\\naomi\\appdata\\local\\programs\\python\\python38\\lib\\site-packages (from matplotlib>=1.3.1->brian2tools) (0.10.0)\n",
      "Collecting mpmath>=0.19\n",
      "  Downloading mpmath-1.1.0.tar.gz (512 kB)\n",
      "Requirement already satisfied: MarkupSafe>=0.23 in c:\\users\\naomi\\appdata\\local\\programs\\python\\python38\\lib\\site-packages (from jinja2>=2.7->brian2>=2.0->brian2tools) (1.1.1)\n",
      "Requirement already satisfied: six>=1.5 in c:\\users\\naomi\\appdata\\local\\programs\\python\\python38\\lib\\site-packages (from python-dateutil>=2.1->matplotlib>=1.3.1->brian2tools) (1.15.0)\n",
      "Using legacy 'setup.py install' for brian2, since package 'wheel' is not installed.\n",
      "Using legacy 'setup.py install' for py-cpuinfo, since package 'wheel' is not installed.\n",
      "Using legacy 'setup.py install' for mpmath, since package 'wheel' is not installed.\n",
      "Installing collected packages: cython, mpmath, sympy, py-cpuinfo, brian2, setuptools-scm, brian2tools\n",
      "    Running setup.py install for mpmath: started\n",
      "    Running setup.py install for mpmath: finished with status 'done'\n",
      "    Running setup.py install for py-cpuinfo: started\n",
      "    Running setup.py install for py-cpuinfo: finished with status 'done'\n",
      "    Running setup.py install for brian2: started\n",
      "    Running setup.py install for brian2: finished with status 'done'\n",
      "Successfully installed brian2-2.4 brian2tools-0.2.1.1 cython-0.29.21 mpmath-1.1.0 py-cpuinfo-7.0.0 setuptools-scm-4.1.2 sympy-1.6.2\n"
     ]
    },
    {
     "name": "stderr",
     "output_type": "stream",
     "text": [
      "INFO:matplotlib.font_manager:Generating new fontManager, this may take some time...\n"
     ]
    },
    {
     "ename": "ModuleNotFoundError",
     "evalue": "No module named 'ipywidgets'",
     "output_type": "error",
     "traceback": [
      "\u001b[1;31m---------------------------------------------------------------------------\u001b[0m",
      "\u001b[1;31mModuleNotFoundError\u001b[0m                       Traceback (most recent call last)",
      "\u001b[1;32m<ipython-input-3-008b5aaa89d6>\u001b[0m in \u001b[0;36m<module>\u001b[1;34m\u001b[0m\n\u001b[0;32m     17\u001b[0m \u001b[1;32mfrom\u001b[0m \u001b[0mIPython\u001b[0m\u001b[1;33m.\u001b[0m\u001b[0mdisplay\u001b[0m \u001b[1;32mimport\u001b[0m \u001b[0mdisplay\u001b[0m\u001b[1;33m\u001b[0m\u001b[1;33m\u001b[0m\u001b[0m\n\u001b[0;32m     18\u001b[0m \u001b[1;32mimport\u001b[0m \u001b[0mbrian2\u001b[0m\u001b[1;33m.\u001b[0m\u001b[0mnumpy_\u001b[0m \u001b[1;32mas\u001b[0m \u001b[0mnp\u001b[0m \u001b[1;31m# the numpy that comes bundled with it\u001b[0m\u001b[1;33m\u001b[0m\u001b[1;33m\u001b[0m\u001b[0m\n\u001b[1;32m---> 19\u001b[1;33m \u001b[1;32mfrom\u001b[0m \u001b[0mipywidgets\u001b[0m \u001b[1;32mimport\u001b[0m \u001b[0minteract\u001b[0m\u001b[1;33m,\u001b[0m \u001b[0minteractive\u001b[0m \u001b[1;31m# for some neat interactions\u001b[0m\u001b[1;33m\u001b[0m\u001b[1;33m\u001b[0m\u001b[0m\n\u001b[0m\u001b[0;32m     20\u001b[0m \u001b[1;32mfrom\u001b[0m \u001b[0mIPython\u001b[0m\u001b[1;33m.\u001b[0m\u001b[0mdisplay\u001b[0m \u001b[1;32mimport\u001b[0m \u001b[0mdisplay\u001b[0m\u001b[1;33m\u001b[0m\u001b[1;33m\u001b[0m\u001b[0m\n\u001b[0;32m     21\u001b[0m \u001b[1;32mimport\u001b[0m \u001b[0mipywidgets\u001b[0m \u001b[1;32mas\u001b[0m \u001b[0mwidgets\u001b[0m\u001b[1;33m\u001b[0m\u001b[1;33m\u001b[0m\u001b[0m\n",
      "\u001b[1;31mModuleNotFoundError\u001b[0m: No module named 'ipywidgets'"
     ]
    }
   ],
   "source": [
    "!pip install pyneuroml\n",
    "!pip install libNeuroML\n",
    "!pip install pylems\n",
    "!pip install brian2tools \n",
    "\n",
    "import pyneuroml \n",
    "from pyneuroml import pynml\n",
    "\n",
    "import neuroml\n",
    "import neuroml.loaders as loaders\n",
    "import neuroml.writers as writers\n",
    "from neuroml.utils import *\n",
    "\n",
    "from brian2tools import *\n",
    "from brian2.units.constants import faraday_constant as F\n",
    "\n",
    "from IPython.display import display\n",
    "import brian2.numpy_ as np # the numpy that comes bundled with it\n",
    "from ipywidgets import interact, interactive # for some neat interactions\n",
    "from IPython.display import display \n",
    "import ipywidgets as widgets\n",
    "import matplotlib.pyplot as plt # for neat plots\n",
    "import matplotlib.gridspec as gridspec\n",
    "\n",
    "import time # for time basis conversions\n",
    "\n",
    "from brian2 import *    \n",
    "from brian2 import Morphology # for importing morphologies"
   ]
  },
  {
   "cell_type": "code",
   "execution_count": 4,
   "metadata": {},
   "outputs": [
    {
     "name": "stdout",
     "output_type": "stream",
     "text": [
      "Validating Cells\\C1A_scaled_exp_resample_5.cell.nml against c:\\users\\naomi\\appdata\\local\\programs\\python\\python38\\lib\\site-packages\\neuroml\\nml/NeuroML_v2.1.xsd\n",
      "It's valid!\n"
     ]
    }
   ],
   "source": [
    "example_nml_file = 'Cells\\C1A_scaled_exp_resample_5.cell.nml'\n",
    "example_swc_file = 'C1A_scaled_exp_resample_10.swc'\n",
    "validate_neuroml2(example_nml_file)"
   ]
  },
  {
   "cell_type": "code",
   "execution_count": 5,
   "metadata": {
    "scrolled": true
   },
   "outputs": [
    {
     "name": "stdout",
     "output_type": "stream",
     "text": [
      "Validating channels\\CaCC.channel.nml against c:\\users\\naomi\\appdata\\local\\programs\\python\\python38\\lib\\site-packages\\neuroml\\nml/NeuroML_v2.1.xsd\n",
      "It's valid!\n"
     ]
    }
   ],
   "source": [
    "example_channel_file = 'channels\\CaCC.channel.nml'\n",
    "validate_neuroml2(example_channel_file)"
   ]
  },
  {
   "cell_type": "code",
   "execution_count": 7,
   "metadata": {},
   "outputs": [
    {
     "ename": "NameError",
     "evalue": "name 'Morphology' is not defined",
     "output_type": "error",
     "traceback": [
      "\u001b[1;31m---------------------------------------------------------------------------\u001b[0m",
      "\u001b[1;31mNameError\u001b[0m                                 Traceback (most recent call last)",
      "\u001b[1;32m<ipython-input-7-d6e6df96724b>\u001b[0m in \u001b[0;36m<module>\u001b[1;34m\u001b[0m\n\u001b[1;32m----> 1\u001b[1;33m \u001b[0mMorphIO\u001b[0m \u001b[1;33m=\u001b[0m \u001b[0mMorphology\u001b[0m\u001b[1;33m.\u001b[0m\u001b[0mfrom_swc_file\u001b[0m\u001b[1;33m(\u001b[0m\u001b[0mexample_swc_file\u001b[0m\u001b[1;33m)\u001b[0m\u001b[1;33m\u001b[0m\u001b[1;33m\u001b[0m\u001b[0m\n\u001b[0m\u001b[0;32m      2\u001b[0m \u001b[0mMorphology\u001b[0m\u001b[1;33m.\u001b[0m\u001b[0mtopology\u001b[0m\u001b[1;33m(\u001b[0m\u001b[0mMorphIO\u001b[0m\u001b[1;33m)\u001b[0m\u001b[1;33m\u001b[0m\u001b[1;33m\u001b[0m\u001b[0m\n\u001b[0;32m      3\u001b[0m \u001b[1;33m\u001b[0m\u001b[0m\n\u001b[0;32m      4\u001b[0m \u001b[1;33m\u001b[0m\u001b[0m\n\u001b[0;32m      5\u001b[0m \u001b[0mfigure\u001b[0m\u001b[1;33m(\u001b[0m\u001b[0mfigsize\u001b[0m\u001b[1;33m=\u001b[0m\u001b[1;33m(\u001b[0m\u001b[1;36m14\u001b[0m\u001b[1;33m,\u001b[0m \u001b[1;36m4\u001b[0m\u001b[1;33m)\u001b[0m\u001b[1;33m,\u001b[0m \u001b[0mdpi\u001b[0m\u001b[1;33m=\u001b[0m \u001b[1;36m80\u001b[0m\u001b[1;33m,\u001b[0m \u001b[0mfacecolor\u001b[0m\u001b[1;33m=\u001b[0m\u001b[1;34m'w'\u001b[0m\u001b[1;33m,\u001b[0m \u001b[0medgecolor\u001b[0m\u001b[1;33m=\u001b[0m\u001b[1;34m'k'\u001b[0m\u001b[1;33m)\u001b[0m\u001b[1;33m\u001b[0m\u001b[1;33m\u001b[0m\u001b[0m\n",
      "\u001b[1;31mNameError\u001b[0m: name 'Morphology' is not defined"
     ]
    }
   ],
   "source": [
    "MorphIO = Morphology.from_swc_file(example_swc_file)\n",
    "Morphology.topology(MorphIO)\n",
    "\n",
    "\n",
    "figure(figsize=(14, 4), dpi= 80, facecolor='w', edgecolor='k')\n",
    "plt.subplot(1, 2, 1)\n",
    "brian_plot(MorphIO) \n",
    "plt.subplot(1, 2, 2)\n",
    "plot_morphology(MorphIO, plot_3d=False)\n"
   ]
  },
  {
   "cell_type": "code",
   "execution_count": 24,
   "metadata": {},
   "outputs": [
    {
     "ename": "TypeError",
     "evalue": "unsupported operand type(s) for -: 'module' and '_Helper'",
     "output_type": "error",
     "traceback": [
      "\u001b[1;31m---------------------------------------------------------------------------\u001b[0m",
      "\u001b[1;31mTypeError\u001b[0m                                 Traceback (most recent call last)",
      "\u001b[1;32m<ipython-input-24-5d161593079e>\u001b[0m in \u001b[0;36m<module>\u001b[1;34m\u001b[0m\n\u001b[1;32m----> 1\u001b[1;33m \u001b[0mpynml\u001b[0m \u001b[1;33m-\u001b[0m\u001b[0mhelp\u001b[0m\u001b[1;33m\u001b[0m\u001b[1;33m\u001b[0m\u001b[0m\n\u001b[0m",
      "\u001b[1;31mTypeError\u001b[0m: unsupported operand type(s) for -: 'module' and '_Helper'"
     ]
    }
   ],
   "source": [
    "pynml -help"
   ]
  },
  {
   "cell_type": "code",
   "execution_count": null,
   "metadata": {
    "scrolled": true
   },
   "outputs": [],
   "source": []
  },
  {
   "cell_type": "code",
   "execution_count": null,
   "metadata": {},
   "outputs": [],
   "source": [
    "\n"
   ]
  },
  {
   "cell_type": "code",
   "execution_count": null,
   "metadata": {},
   "outputs": [],
   "source": []
  },
  {
   "cell_type": "code",
   "execution_count": null,
   "metadata": {},
   "outputs": [],
   "source": []
  }
 ],
 "metadata": {
  "kernelspec": {
   "display_name": "Python 3",
   "language": "python",
   "name": "python3"
  },
  "language_info": {
   "codemirror_mode": {
    "name": "ipython",
    "version": 3
   },
   "file_extension": ".py",
   "mimetype": "text/x-python",
   "name": "python",
   "nbconvert_exporter": "python",
   "pygments_lexer": "ipython3",
   "version": "3.8.5"
  }
 },
 "nbformat": 4,
 "nbformat_minor": 4
}
