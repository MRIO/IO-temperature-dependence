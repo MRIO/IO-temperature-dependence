{
 "cells": [
  {
   "cell_type": "code",
   "execution_count": 1,
   "metadata": {
    "scrolled": true
   },
   "outputs": [
    {
     "name": "stdout",
     "output_type": "stream",
     "text": [
      "Page loaded\n",
      "Page loaded\n"
     ]
    }
   ],
   "source": [
    "import time\n",
    "from selenium import webdriver\n",
    "from selenium.common.exceptions import TimeoutException\n",
    "from selenium.common.exceptions import NoSuchElementException\n",
    "from selenium.webdriver.support.ui import WebDriverWait\n",
    "from selenium.webdriver.support import expected_conditions as EC\n",
    "from selenium.webdriver.common.by import By\n",
    "\n",
    "driver = webdriver.Chrome()\n",
    "driver.get('http://opensourcebrain.org/');\n",
    "\n",
    "#Log in\n",
    "driver.find_element_by_class_name('login').click()\n",
    "timeout=10\n",
    "try:\n",
    "    element_present = EC.presence_of_element_located((By.NAME, 'username'))\n",
    "    WebDriverWait(driver, timeout).until(element_present)\n",
    "except TimeoutException:\n",
    "    print(\"Timed out waiting for page to load\")\n",
    "finally:\n",
    "    print(\"Page loaded\")\n",
    "driver.find_element_by_name('username').send_keys('njhulst')\n",
    "driver.find_element_by_name('password').send_keys('aL7S5W2Z')\n",
    "driver.find_element_by_id('loginButton').click()\n",
    "try:\n",
    "    element_present = EC.presence_of_element_located((By.ID, 'myprojects'))\n",
    "    WebDriverWait(driver, timeout).until(element_present)\n",
    "except TimeoutException:\n",
    "    print(\"Timed out waiting for page to load\")\n",
    "finally:\n",
    "    print(\"Page loaded\")\n"
   ]
  },
  {
   "cell_type": "code",
   "execution_count": 2,
   "metadata": {},
   "outputs": [],
   "source": [
    "#Go to project\n",
    "driver.find_element_by_xpath(\"//body/nav[1]/div[1]/div[2]/ul[1]/li[1]/a[1]\").click()\n",
    "driver.find_element_by_xpath(\"//body/nav[1]/div[1]/div[2]/ul[1]/li[1]/ul[1]/li[2]/a[1]\").click()"
   ]
  },
  {
   "cell_type": "code",
   "execution_count": 3,
   "metadata": {},
   "outputs": [
    {
     "name": "stdout",
     "output_type": "stream",
     "text": [
      "Page loaded\n"
     ]
    },
    {
     "data": {
      "text/plain": [
       "True"
      ]
     },
     "execution_count": 3,
     "metadata": {},
     "output_type": "execute_result"
    }
   ],
   "source": [
    "#Go to model\n",
    "driver.find_element_by_xpath(\"//a[contains(text(),'Models')]\").click()\n",
    "try:\n",
    "    element_present = EC.presence_of_element_located((By.XPATH, \"//input[@id='modelFilter']\"))\n",
    "    WebDriverWait(driver, timeout).until(element_present)\n",
    "except TimeoutException:\n",
    "    print(\"Timed out waiting for page to load\")\n",
    "finally:\n",
    "    print(\"Page loaded\")\n",
    "driver.find_element_by_xpath(\"//a[@id='Cells/nml_c51_onsite.net.nml']\").click()\n",
    "WebDriverWait(driver, 10).until(EC.frame_to_be_available_and_switch_to_it((By.XPATH,'//*[@id=\"geppettoFrame\"]')))"
   ]
  },
  {
   "cell_type": "code",
   "execution_count": 4,
   "metadata": {},
   "outputs": [],
   "source": [
    "#Reload if the model is not opening\n",
    "while True:\n",
    "    try: \n",
    "        driver.find_element_by_xpath('//*[@id=\"SaveButton\"]/div/button')\n",
    "    except NoSuchElementException:\n",
    "        driver.switch_to.default_content()\n",
    "        driver.find_element_by_xpath('//*[@id=\"showProjectBtn\"]').click()\n",
    "        time.sleep(1)\n",
    "        driver.find_element_by_xpath('//*[@id=\"container-fluid\"]/ul/li[1]/a').click()\n",
    "        time.sleep(1)\n",
    "        driver.find_element_by_xpath('//*[@id=\"container-fluid\"]/ul/li[3]/a').click()\n",
    "        time.sleep(1)\n",
    "        driver.find_element_by_xpath(\"//a[@id='Cells/nml_c51_onsite.net.nml']\").click()\n",
    "    \n",
    "        WebDriverWait(driver, 10).until(EC.frame_to_be_available_and_switch_to_it((By.XPATH,'//*[@id=\"geppettoFrame\"]')))\n",
    "    else: \n",
    "        break"
   ]
  },
  {
   "cell_type": "code",
   "execution_count": 5,
   "metadata": {},
   "outputs": [
    {
     "name": "stdout",
     "output_type": "stream",
     "text": [
      "Timed out waiting for page to load\n",
      "Page loaded\n"
     ]
    },
    {
     "ename": "AttributeError",
     "evalue": "'WebDriver' object has no attribute 'find_element_by_class'",
     "output_type": "error",
     "traceback": [
      "\u001b[1;31m---------------------------------------------------------------------------\u001b[0m",
      "\u001b[1;31mAttributeError\u001b[0m                            Traceback (most recent call last)",
      "\u001b[1;32m<ipython-input-5-9ccda520a4db>\u001b[0m in \u001b[0;36m<module>\u001b[1;34m()\u001b[0m\n\u001b[0;32m      8\u001b[0m     \u001b[1;32mprint\u001b[0m\u001b[1;33m(\u001b[0m\u001b[1;34m\"Page loaded\"\u001b[0m\u001b[1;33m)\u001b[0m\u001b[1;33m\u001b[0m\u001b[0m\n\u001b[0;32m      9\u001b[0m \u001b[1;33m\u001b[0m\u001b[0m\n\u001b[1;32m---> 10\u001b[1;33m \u001b[0mdriver\u001b[0m\u001b[1;33m.\u001b[0m\u001b[0mfind_element_by_class\u001b[0m\u001b[1;33m(\u001b[0m\u001b[1;34m'fa fa-close'\u001b[0m\u001b[1;33m)\u001b[0m\u001b[1;33m.\u001b[0m\u001b[0mclick\u001b[0m\u001b[1;33m(\u001b[0m\u001b[1;33m)\u001b[0m\u001b[1;33m\u001b[0m\u001b[0m\n\u001b[0m\u001b[0;32m     11\u001b[0m \u001b[0mtime\u001b[0m\u001b[1;33m.\u001b[0m\u001b[0msleep\u001b[0m\u001b[1;33m(\u001b[0m\u001b[1;36m1\u001b[0m\u001b[1;33m)\u001b[0m\u001b[1;33m\u001b[0m\u001b[0m\n\u001b[0;32m     12\u001b[0m \u001b[0mdriver\u001b[0m\u001b[1;33m.\u001b[0m\u001b[0mfind_element_by_xpath\u001b[0m\u001b[1;33m(\u001b[0m\u001b[1;34m'//*[@id=\"SaveButton\"]/div/button'\u001b[0m\u001b[1;33m)\u001b[0m\u001b[1;33m.\u001b[0m\u001b[0mclick\u001b[0m\u001b[1;33m(\u001b[0m\u001b[1;33m)\u001b[0m\u001b[1;33m\u001b[0m\u001b[0m\n",
      "\u001b[1;31mAttributeError\u001b[0m: 'WebDriver' object has no attribute 'find_element_by_class'"
     ]
    }
   ],
   "source": [
    "#Remove tutorial and persist model\n",
    "try:\n",
    "    element_present = EC.presence_of_element_located((By.XPATH, \"//input[@id='modelFilter']\"))\n",
    "    WebDriverWait(driver, timeout).until(element_present)\n",
    "except TimeoutException:\n",
    "    print(\"Timed out waiting for page to load\")\n",
    "finally:\n",
    "    print(\"Page loaded\")\n",
    "\n",
    "driver.find_element_by_class('fa fa-close').click()\n",
    "time.sleep(1)\n",
    "driver.find_element_by_xpath('//*[@id=\"SaveButton\"]/div/button').click()\n",
    "time.sleep(1)\n",
    "driver.find_element_by_xpath('//*[@id=\"runMenuButton\"]').click()\n",
    "time.sleep(1)\n",
    "driver.find_element_by_xpath('//*[@id=\"dropDownTable\"]/tbody/tr[1]/td[2]').click()\n",
    "time.sleep(1)\n",
    "temp = driver.find_element_by_xpath('//*[@id=\"root_temperature\"]')\n",
    "temp.clear()\n",
    "temp.send_keys('10')\n",
    "driver.find_element_by_xpath('//*[@id=\"exptRunForm\"]/p/button').click()\n",
    "time.sleep(1)"
   ]
  },
  {
   "cell_type": "code",
   "execution_count": null,
   "metadata": {},
   "outputs": [],
   "source": [
    "#Close chrome\n",
    "#driver.quit()"
   ]
  }
 ],
 "metadata": {
  "kernelspec": {
   "display_name": "Python 2",
   "language": "python",
   "name": "python2"
  },
  "language_info": {
   "codemirror_mode": {
    "name": "ipython",
    "version": 2
   },
   "file_extension": ".py",
   "mimetype": "text/x-python",
   "name": "python",
   "nbconvert_exporter": "python",
   "pygments_lexer": "ipython2",
   "version": "2.7.15"
  }
 },
 "nbformat": 4,
 "nbformat_minor": 2
}
