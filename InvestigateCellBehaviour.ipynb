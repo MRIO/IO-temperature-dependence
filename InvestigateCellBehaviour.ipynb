{
 "cells": [
  {
   "cell_type": "code",
   "execution_count": 169,
   "metadata": {},
   "outputs": [],
   "source": [
    "import sys\n",
    "import csv\n",
    "import os\n",
    "import pandas as pd\n",
    "import numpy as np\n",
    "import decimal\n",
    "from pyneuroml import pynml\n",
    "from pyneuroml.pynml import print_comment_v\n",
    "from pyneuroml.lems import LEMSSimulation\n",
    "import neuroml as nml\n",
    "import neuroml.writers as writers\n",
    "import random\n",
    "random.seed(12345)\n",
    "%matplotlib inline"
   ]
  },
  {
   "cell_type": "code",
   "execution_count": 187,
   "metadata": {},
   "outputs": [
    {
     "name": "stdout",
     "output_type": "stream",
     "text": [
      "3.7.6\n"
     ]
    }
   ],
   "source": [
    "from platform import python_version\n",
    "\n",
    "print(python_version())"
   ]
  },
  {
   "cell_type": "code",
   "execution_count": 185,
   "metadata": {},
   "outputs": [
    {
     "name": "stdout",
     "output_type": "stream",
     "text": [
      "Validating nml_C10.net.nml against /opt/conda/lib/python3.7/site-packages/neuroml/nml/NeuroML_v2.1.xsd\n",
      "It's valid!\n",
      "0\n",
      "pop/0/C10/0/v\n",
      "1\n",
      "pop/0/C10/1/v\n",
      "pyNeuroML >>> Written LEMS Simulation Vm_Test to file: LEMS_Vm_Test.xml\n",
      "pyNeuroML >>> Reloading data specified in LEMS file: LEMS_Vm_Test.xml (/home/jovyan/work/NeuroML_Examples/Naomi/LEMS_Vm_Test.xml), base_dir: /home/jovyan/work/NeuroML_Examples/Naomi, cwd: /home/jovyan/work/NeuroML_Examples/Naomi\n",
      "dict_keys(['t', 'pop/0/C10/0/v', 'pop/0/C10/1/v'])\n",
      "dict_keys(['t', 'pop/0/C10/0/v.20degC', 'pop/0/C10/1/v.20degC'])\n",
      "Validating nml_C10.net.nml against /opt/conda/lib/python3.7/site-packages/neuroml/nml/NeuroML_v2.1.xsd\n",
      "It's valid!\n",
      "0\n",
      "pop/0/C10/0/v\n",
      "1\n",
      "pop/0/C10/1/v\n",
      "pyNeuroML >>> Written LEMS Simulation Vm_Test to file: LEMS_Vm_Test.xml\n",
      "pyNeuroML >>> Reloading data specified in LEMS file: LEMS_Vm_Test.xml (/home/jovyan/work/NeuroML_Examples/Naomi/LEMS_Vm_Test.xml), base_dir: /home/jovyan/work/NeuroML_Examples/Naomi, cwd: /home/jovyan/work/NeuroML_Examples/Naomi\n",
      "dict_keys(['t', 'pop/0/C10/0/v', 'pop/0/C10/1/v'])\n",
      "dict_keys(['t', 'pop/0/C10/0/v.20degC', 'pop/0/C10/1/v.20degC', 'pop/0/C10/0/v.37degC', 'pop/0/C10/1/v.37degC'])\n"
     ]
    }
   ],
   "source": [
    "#Create NeuroML files\n",
    "output_dict = {}\n",
    "\n",
    "\n",
    "start = 20\n",
    "stop = 37\n",
    "step = 17\n",
    "temp_range = np.arange(start, stop + step, step)\n",
    "cellName = \"C10\"\n",
    "\n",
    "for i in temp_range:\n",
    "    i = round(i,2)\n",
    "    nml_doc = nml.NeuroMLDocument(id=\"net\")\n",
    "\n",
    "    #Include cell file\n",
    "    incl = nml.IncludeType(href=cellName+\"_scaled_exp_resample_5.cell.nml\")\n",
    "    nml_doc.includes.append(incl)\n",
    "\n",
    "    #Create network\n",
    "    net = nml.Network(id=\"net\", type=\"networkWithTemperature\", temperature=str(i)+\"degC\")\n",
    "    nml_doc.networks.append(net)\n",
    "\n",
    "    #Create population\n",
    "    pop = nml.Population(id=\"pop\", component=cellName, type=\"populationList\", size=\"1\")\n",
    "    net.populations.append(pop)\n",
    "\n",
    "    loc = nml.Location(x=\"0\", y=\"0\", z=\"0\")\n",
    "\n",
    "    inst = nml.Instance(id=\"0\", location=loc)\n",
    "    pop.instances.append(inst)\n",
    "  \n",
    "    #Create pulse generator\n",
    "    t_delay = 200\n",
    "    t_duration = 50\n",
    "    \n",
    "    pg = nml.PulseGenerator(id=\"iclamp0\", delay=str(t_delay)+\"ms\", duration=str(t_duration)+\"ms\", amplitude=\"-1nA\")\n",
    "    nml_doc.pulse_generators.append(pg)\n",
    "\n",
    "    #Add pg to cell\n",
    "    il = nml.InputList(id=\"clamps\", component=pg.id, populations=\"pop\")\n",
    "    ip = nml.Input(id=\"0\", target=\"../pop/0/\"+str(cellName), segmentId=\"0\", destination=\"synapses\")\n",
    "    il.input.append(ip)\n",
    "    net.input_lists.append(il)\n",
    "\n",
    "    nml_file = \"nml_\"+cellName+\".net.nml\"\n",
    "    writers.NeuroMLWriter.write(nml_doc, nml_file)\n",
    "\n",
    "    #print(\"Written network file to: \"+nml_file)\n",
    "\n",
    "    from neuroml.utils import validate_neuroml2\n",
    "    validate_neuroml2(nml_file)\n",
    "\n",
    "    ref = \"Test\"\n",
    "    sim_id = \"Vm_%s\"%ref\n",
    "    sim_dur_ms = 1000\n",
    "    dt = 0.05\n",
    "    segment = [0, 1]\n",
    "    quantity = []\n",
    "    for s in segment:\n",
    "        quantity.append(\"pop/0/\"+cellName+\"/\"+str(s)+\"/v\")\n",
    "    target = 'net'\n",
    "\n",
    "    ls = LEMSSimulation(sim_id, sim_dur_ms, dt, target = target)\n",
    "    ls.include_neuroml2_file(\"nml_\"+cellName+\".net.nml\")\n",
    "    #ls.assign_simulation_target('net')\n",
    "\n",
    "    disp0 = 'display0'\n",
    "    ls.create_display(disp0, \"Spiking pattern\", \"-90\", \"50\")\n",
    "    for j in range(len(quantity)):\n",
    "        ls.add_line_to_display(disp0, segment[j], quantity[j])\n",
    "\n",
    "    of0 = 'Volts_file'\n",
    "    ls.create_output_file(of0, \"%s.v.dat\"%sim_id)\n",
    "    for j in range(len(quantity)): \n",
    "        ls.add_column_to_output_file(of0, segment[j], quantity[j])\n",
    "        print(segment[j])\n",
    "        print(quantity[j])\n",
    "        \n",
    "    fn = \"LEMS_%s.xml\"%sim_id\n",
    "    ls.save_to_file(file_name=fn)\n",
    "\n",
    "    example_lems_file = '/home/jovyan/work/NeuroML_Examples/Naomi/LEMS_Vm_Test.xml'\n",
    "\n",
    "    out_dir,rel_filename = os.path.split(example_lems_file)\n",
    "    #print(out_dir)\n",
    "    #print(rel_filename)\n",
    "\n",
    "    results_dict = pynml.run_lems_with_jneuroml_neuron(\n",
    "        rel_filename, verbose=False, nogui=True, load_saved_data=True, exec_in_dir=out_dir,\n",
    "        max_memory='400M')\n",
    "    \n",
    "    print( results_dict.keys() )\n",
    "    #print( 'Recorded points: ', len(results_dict['t']) )\n",
    "    \n",
    "    for q in quantity:\n",
    "        results_dict[str(q)+\".\"+str(i)+'degC'] = results_dict.pop(q) \n",
    "    output_dict.update(results_dict)\n",
    "    print(output_dict.keys())"
   ]
  },
  {
   "cell_type": "code",
   "execution_count": 77,
   "metadata": {},
   "outputs": [
    {
     "name": "stdout",
     "output_type": "stream",
     "text": [
      "0\n",
      "1\n"
     ]
    }
   ],
   "source": [
    "quantity = []\n",
    "for s in segment:\n",
    "    quantity.append(\"pop/0/C51A/\"+str(s)+\"/v\")\n",
    "for i in range(len(quantity)):\n",
    "    print(i)"
   ]
  },
  {
   "cell_type": "code",
   "execution_count": 118,
   "metadata": {},
   "outputs": [
    {
     "name": "stdout",
     "output_type": "stream",
     "text": [
      "dict_keys(['t', 'pop/0/C10/0/v.20degC', 'pop/0/C10/310/v.20degC', 'pop/0/C10/0/v.37degC', 'pop/0/C10/310/v.37degC'])\n"
     ]
    }
   ],
   "source": [
    "print(output_dict.keys())"
   ]
  },
  {
   "cell_type": "code",
   "execution_count": 186,
   "metadata": {},
   "outputs": [
    {
     "data": {
      "image/png": "[encoded data removed]",
      "text/plain": [
       "<Figure size 720x360 with 1 Axes>"
      ]
     },
     "metadata": {
      "needs_background": "light"
     },
     "output_type": "display_data"
    },
    {
     "ename": "KeyError",
     "evalue": "'pop/0/C10/310/v.37degC'",
     "output_type": "error",
     "traceback": [
      "\u001b[0;31m---------------------------------------------------------------------------\u001b[0m",
      "\u001b[0;31mKeyError\u001b[0m                                  Traceback (most recent call last)",
      "\u001b[0;32m<ipython-input-186-45b62245cab9>\u001b[0m in \u001b[0;36m<module>\u001b[0;34m\u001b[0m\n\u001b[1;32m     25\u001b[0m \u001b[0mdiff\u001b[0m \u001b[0;34m=\u001b[0m \u001b[0;34m[\u001b[0m\u001b[0;34m]\u001b[0m\u001b[0;34m\u001b[0m\u001b[0;34m\u001b[0m\u001b[0m\n\u001b[1;32m     26\u001b[0m \u001b[0mvol0\u001b[0m \u001b[0;34m=\u001b[0m \u001b[0moutput_dict\u001b[0m\u001b[0;34m[\u001b[0m\u001b[0;34m\"pop/0/\"\u001b[0m\u001b[0;34m+\u001b[0m\u001b[0mcellName\u001b[0m\u001b[0;34m+\u001b[0m\u001b[0;34m\"/0/v.\"\u001b[0m\u001b[0;34m+\u001b[0m\u001b[0mstr\u001b[0m\u001b[0;34m(\u001b[0m\u001b[0mtemp\u001b[0m\u001b[0;34m)\u001b[0m\u001b[0;34m+\u001b[0m\u001b[0;34m\"degC\"\u001b[0m\u001b[0;34m]\u001b[0m\u001b[0;34m\u001b[0m\u001b[0;34m\u001b[0m\u001b[0m\n\u001b[0;32m---> 27\u001b[0;31m \u001b[0mvol310\u001b[0m \u001b[0;34m=\u001b[0m \u001b[0moutput_dict\u001b[0m\u001b[0;34m[\u001b[0m\u001b[0;34m\"pop/0/\"\u001b[0m\u001b[0;34m+\u001b[0m\u001b[0mcellName\u001b[0m\u001b[0;34m+\u001b[0m\u001b[0;34m\"/310/v.\"\u001b[0m\u001b[0;34m+\u001b[0m\u001b[0mstr\u001b[0m\u001b[0;34m(\u001b[0m\u001b[0mtemp\u001b[0m\u001b[0;34m)\u001b[0m\u001b[0;34m+\u001b[0m\u001b[0;34m\"degC\"\u001b[0m\u001b[0;34m]\u001b[0m\u001b[0;34m\u001b[0m\u001b[0;34m\u001b[0m\u001b[0m\n\u001b[0m\u001b[1;32m     28\u001b[0m \u001b[0;32mfor\u001b[0m \u001b[0mi\u001b[0m \u001b[0;32min\u001b[0m \u001b[0mrange\u001b[0m\u001b[0;34m(\u001b[0m\u001b[0mlen\u001b[0m\u001b[0;34m(\u001b[0m\u001b[0moutput_dict\u001b[0m\u001b[0;34m[\u001b[0m\u001b[0;34m\"pop/0/\"\u001b[0m\u001b[0;34m+\u001b[0m\u001b[0mcellName\u001b[0m\u001b[0;34m+\u001b[0m\u001b[0;34m\"/0/v.\"\u001b[0m\u001b[0;34m+\u001b[0m\u001b[0mstr\u001b[0m\u001b[0;34m(\u001b[0m\u001b[0mtemp\u001b[0m\u001b[0;34m)\u001b[0m\u001b[0;34m+\u001b[0m\u001b[0;34m\"degC\"\u001b[0m\u001b[0;34m]\u001b[0m\u001b[0;34m)\u001b[0m\u001b[0;34m)\u001b[0m\u001b[0;34m:\u001b[0m\u001b[0;34m\u001b[0m\u001b[0;34m\u001b[0m\u001b[0m\n\u001b[1;32m     29\u001b[0m     \u001b[0mdiff\u001b[0m\u001b[0;34m.\u001b[0m\u001b[0mappend\u001b[0m\u001b[0;34m(\u001b[0m\u001b[0mvol0\u001b[0m\u001b[0;34m[\u001b[0m\u001b[0mi\u001b[0m\u001b[0;34m]\u001b[0m\u001b[0;34m-\u001b[0m\u001b[0mvol310\u001b[0m\u001b[0;34m[\u001b[0m\u001b[0mi\u001b[0m\u001b[0;34m]\u001b[0m\u001b[0;34m)\u001b[0m\u001b[0;34m\u001b[0m\u001b[0;34m\u001b[0m\u001b[0m\n",
      "\u001b[0;31mKeyError\u001b[0m: 'pop/0/C10/310/v.37degC'"
     ]
    }
   ],
   "source": [
    "import matplotlib\n",
    "import matplotlib.pyplot as plt\n",
    "%matplotlib inline\n",
    "\n",
    "temp = 37\n",
    "\n",
    "plt.rcParams['figure.figsize'] = [10, 5]\n",
    "plt.rcParams['axes.titlesize'] = 16\n",
    "\n",
    "plt.xlabel('Time (s)')\n",
    "plt.ylabel('Membrane potential (V)')\n",
    "plt.title('Membrane potential at different locations')\n",
    "plt.grid(True)\n",
    "\n",
    "for key in output_dict:\n",
    "    if key == 't':\n",
    "        # no need to plot sim time against sim time\n",
    "        continue\n",
    "    if key == \"pop/0/\"+cellName+\"/0/v.\"+str(temp)+\"degC\" or key == \"pop/0/\"+cellName+\"/310/v.\"+str(temp)+\"degC\":\n",
    "        plt.plot(output_dict['t'],output_dict[key], label=\"\"+key)\n",
    "    \n",
    "plt.legend([\"Soma\", \"Dendrite\"])\n",
    "plt.show()\n",
    "\n",
    "diff = []\n",
    "vol0 = output_dict[\"pop/0/\"+cellName+\"/0/v.\"+str(temp)+\"degC\"]\n",
    "vol310 = output_dict[\"pop/0/\"+cellName+\"/310/v.\"+str(temp)+\"degC\"]\n",
    "for i in range(len(output_dict[\"pop/0/\"+cellName+\"/0/v.\"+str(temp)+\"degC\"])):\n",
    "    diff.append(vol0[i]-vol310[i])\n",
    "\n",
    "plt.figure()\n",
    "plt.xlabel('Time (s)')\n",
    "plt.ylabel('Membrane potential (V)')\n",
    "plt.title('Difference in membrane potential between soma and dendrite')\n",
    "plt.grid(True)\n",
    "plt.plot(output_dict['t'],diff)\n",
    "plt.show()"
   ]
  },
  {
   "cell_type": "code",
   "execution_count": null,
   "metadata": {},
   "outputs": [],
   "source": []
  }
 ],
 "metadata": {
  "kernelspec": {
   "display_name": "Python 3",
   "language": "python",
   "name": "python3"
  },
  "language_info": {
   "codemirror_mode": {
    "name": "ipython",
    "version": 3
   },
   "file_extension": ".py",
   "mimetype": "text/x-python",
   "name": "python",
   "nbconvert_exporter": "python",
   "pygments_lexer": "ipython3",
   "version": "3.7.6"
  }
 },
 "nbformat": 4,
 "nbformat_minor": 4
}
