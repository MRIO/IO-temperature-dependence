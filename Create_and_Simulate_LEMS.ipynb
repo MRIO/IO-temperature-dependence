{
 "cells": [
  {
   "cell_type": "code",
   "execution_count": 13,
   "metadata": {},
   "outputs": [],
   "source": [
    "import sys\n",
    "import os\n",
    "from pyneuroml import pynml\n",
    "from pyneuroml.pynml import print_comment_v\n",
    "from pyneuroml.lems import LEMSSimulation\n",
    "import neuroml as nml\n",
    "import neuroml.writers as writers\n",
    "import random\n",
    "random.seed(12345)"
   ]
  },
  {
   "cell_type": "code",
   "execution_count": 20,
   "metadata": {},
   "outputs": [
    {
     "name": "stdout",
     "output_type": "stream",
     "text": [
      "Written network file to: nml_C51A.net.nml\n",
      "Validating nml_C51A.net.nml against /opt/conda/lib/python3.7/site-packages/neuroml/nml/NeuroML_v2.1.xsd\n",
      "It's valid!\n",
      "pyNeuroML >>> Written LEMS Simulation Vm_Test to file: LEMS_Vm_Test.xml\n",
      "/home/jovyan/work/NeuroML_Examples/Naomi\n",
      "LEMS_Vm_Test.xml\n",
      "pyNeuroML >>> Reloading data specified in LEMS file: LEMS_Vm_Test.xml (/home/jovyan/work/NeuroML_Examples/Naomi/LEMS_Vm_Test.xml), base_dir: /home/jovyan/work/NeuroML_Examples/Naomi, cwd: /home/jovyan/work/NeuroML_Examples/Naomi\n",
      "dict_keys(['t', 'pop24/0/C51A/0/v'])\n",
      "Recorded points:  2001\n"
     ]
    }
   ],
   "source": [
    "#Create NeuroML file\n",
    "\n",
    "nml_doc = nml.NeuroMLDocument(id=\"net\")\n",
    "\n",
    "#Include cell file\n",
    "incl = nml.IncludeType(href=\"C51A_scaled_exp_resample_5.cell.nml\")\n",
    "nml_doc.includes.append(incl)\n",
    "\n",
    "#Create network\n",
    "net = nml.Network(id=\"net\", type=\"networkWithTemperature\", temperature=\"20degC\")\n",
    "nml_doc.networks.append(net)\n",
    "\n",
    "#Create population\n",
    "pop = nml.Population(id=\"pop24\", component=\"C51A\", type=\"populationList\", size=\"1\")\n",
    "net.populations.append(pop)\n",
    "\n",
    "loc = nml.Location(x=\"0\", y=\"800\", z=\"0\")\n",
    "\n",
    "inst = nml.Instance(id=\"0\", location=loc)\n",
    "pop.instances.append(inst)\n",
    "\n",
    "#Create pulse generator\n",
    "pg = nml.PulseGenerator(id=\"iclamp0\", delay=\"500ms\", duration=\"200ms\", amplitude=\"-1nA\")\n",
    "nml_doc.pulse_generators.append(pg)\n",
    "\n",
    "#Add pg to cell\n",
    "il = nml.InputList(id=\"clamps\", component=pg.id, populations=\"pop24\")\n",
    "ip = nml.Input(id=\"0\", target=\"../pop24/0/C51A\", segmentId=\"0\", destination=\"synapses\")\n",
    "il.input.append(ip)\n",
    "net.input_lists.append(il)\n",
    "\n",
    "nml_file = \"nml_C51A.net.nml\"\n",
    "writers.NeuroMLWriter.write(nml_doc, nml_file)\n",
    "\n",
    "print(\"Written network file to: \"+nml_file)\n",
    "\n",
    "from neuroml.utils import validate_neuroml2\n",
    "validate_neuroml2(nml_file)\n",
    "\n",
    "ref = \"Test\"\n",
    "sim_id = \"Vm_%s\"%ref\n",
    "sim_dur_ms = 100\n",
    "dt = 0.05\n",
    "quantity = \"pop24/0/C51A/0/v\"\n",
    "target = 'net'\n",
    "\n",
    "ls = LEMSSimulation(sim_id, sim_dur_ms, dt, target = target)\n",
    "ls.include_neuroml2_file(\"nml_C51A.net.nml\")\n",
    "#ls.assign_simulation_target('net')\n",
    "\n",
    "disp0 = 'display0'\n",
    "ls.create_display(disp0, \"Spiking pattern\", \"-90\", \"50\")\n",
    "ls.add_line_to_display(disp0, 'v', quantity)\n",
    "\n",
    "of0 = 'Volts_file'\n",
    "ls.create_output_file(of0, \"%s.v.dat\"%sim_id)\n",
    "ls.add_column_to_output_file(of0, 'v', quantity)\n",
    "\n",
    "fn = \"LEMS_%s.xml\"%sim_id\n",
    "ls.save_to_file(file_name=fn)\n",
    "\n",
    "example_lems_file = '/home/jovyan/work/NeuroML_Examples/Naomi/LEMS_Vm_Test.xml'\n",
    "\n",
    "out_dir,rel_filename = os.path.split(example_lems_file)\n",
    "print(out_dir)\n",
    "print(rel_filename)\n",
    "\n",
    "results_dict = pynml.run_lems_with_jneuroml_neuron(\n",
    "    rel_filename, verbose=False, nogui=True, load_saved_data=True, exec_in_dir=out_dir,\n",
    "    max_memory='400M')\n",
    "\n",
    "print( results_dict.keys() )\n",
    "print( 'Recorded points: ', len(results_dict['t']) )\n",
    "# You can also sort the entries in the dict, for predictable results.\n",
    "# dict has started being sorted in newer Python versions, but just make sure.\n",
    "# results_dict = OrderedDict(sorted(results_dict.items()))"
   ]
  },
  {
   "cell_type": "code",
   "execution_count": 19,
   "metadata": {},
   "outputs": [
    {
     "data": {
      "image/png": "[encoded data removed]",
      "text/plain": [
       "<Figure size 432x288 with 1 Axes>"
      ]
     },
     "metadata": {
      "needs_background": "light"
     },
     "output_type": "display_data"
    }
   ],
   "source": [
    "import matplotlib\n",
    "import matplotlib.pyplot as plt\n",
    "\n",
    "plt.xlabel('Time (s)')\n",
    "plt.ylabel('Values')\n",
    "plt.grid(True)\n",
    "\n",
    "# plt.gca().clear()\n",
    "\n",
    "for key in results_dict:\n",
    "    if key == 't':\n",
    "        # no need to plot sim time against sim time\n",
    "        continue\n",
    "    plt.plot(results_dict['t'],results_dict[key], label=\"\"+key)\n",
    "    \n",
    "plt.legend(loc='upper center', bbox_to_anchor=(0.5, 0))\n",
    "plt.show()"
   ]
  }
 ],
 "metadata": {
  "kernelspec": {
   "display_name": "Python 3",
   "language": "python",
   "name": "python3"
  },
  "language_info": {
   "codemirror_mode": {
    "name": "ipython",
    "version": 3
   },
   "file_extension": ".py",
   "mimetype": "text/x-python",
   "name": "python",
   "nbconvert_exporter": "python",
   "pygments_lexer": "ipython3",
   "version": "3.7.6"
  }
 },
 "nbformat": 4,
 "nbformat_minor": 4
}
