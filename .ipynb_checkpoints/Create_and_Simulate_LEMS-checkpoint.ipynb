{
 "cells": [
  {
   "cell_type": "code",
   "execution_count": 1,
   "metadata": {},
   "outputs": [],
   "source": [
    "import sys\n",
    "from pyneuroml import pynml\n",
    "from pyneuroml.lems.LEMSSimulation import LEMSSimulation\n",
    "import neuroml as nml\n",
    "from pyneuroml.pynml import print_comment_v"
   ]
  },
  {
   "cell_type": "code",
   "execution_count": 2,
   "metadata": {},
   "outputs": [
    {
     "name": "stdout",
     "output_type": "stream",
     "text": [
      "pyNeuroML >>> Written LEMS Simulation Vm_Test to file: LEMS_Vm_Test.xml\n"
     ]
    },
    {
     "data": {
      "text/plain": [
       "'LEMS_Vm_Test.xml'"
      ]
     },
     "execution_count": 2,
     "metadata": {},
     "output_type": "execute_result"
    }
   ],
   "source": [
    "ref = \"Test\"\n",
    "sim_id = \"Vm_%s\"%ref\n",
    "sim_dur_ms = 100\n",
    "dt = 0.05\n",
    "quantity = \"pop24/0/C51A/0/v\"\n",
    "target = 'net'\n",
    "\n",
    "ls = LEMSSimulation(sim_id, sim_dur_ms, dt, target = target)\n",
    "ls.include_neuroml2_file(\"nml_c51_onsite.net.nml\")\n",
    "#ls.assign_simulation_target('net')\n",
    "\n",
    "disp0 = 'display0'\n",
    "ls.create_display(disp0, \"Spiking pattern\", \"-90\", \"50\")\n",
    "ls.add_line_to_display(disp0, 'v', quantity)\n",
    "\n",
    "of0 = 'Volts_file'\n",
    "ls.create_output_file(of0, \"%s.v.dat\"%sim_id)\n",
    "ls.add_column_to_output_file(of0, 'v', quantity)\n",
    "\n",
    "#eof0 = 'Events_file'\n",
    "#ls.create_event_output_file(eof0, \"s.v.spikes\"%sim_id)\n",
    "#ls.add_selection_to_event_output_file(eof0, '0', select, \"spike\")\n",
    "\n",
    "ls.save_to_file()"
   ]
  },
  {
   "cell_type": "code",
   "execution_count": 7,
   "metadata": {},
   "outputs": [
    {
     "name": "stdout",
     "output_type": "stream",
     "text": [
      "True\n"
     ]
    }
   ],
   "source": [
    "import sys\n",
    "print(not '-nogui' in sys.argv)"
   ]
  },
  {
   "cell_type": "code",
   "execution_count": 10,
   "metadata": {},
   "outputs": [
    {
     "name": "stdout",
     "output_type": "stream",
     "text": [
      "pyNeuroML >>> *** Problem running command: \n",
      "pyNeuroML >>>        Command 'java -Xmx400M  -jar  \"C:\\Users\\naomi\\AppData\\Local\\Miniconda3\\envs\\neuroMLenv27\\lib\\site-packages\\pyneuroml\\lib\\jNeuroML-0.10.0-jar-with-dependencies.jar\"  \"LEMS_NML2_Ex5_DetCell.xml\"  -nogui' returned non-zero exit status 1\n",
      "pyNeuroML >>>  jNeuroML >>   jNeuroML v0.10.0\r\n",
      "pyNeuroML >>>  jNeuroML >>  Loading: C:\\Users\\naomi\\OneDrive\\Documenten\\Neurocomputing\\GitHub\\IO-temperature-dependence\\Cells\\LEMS_NML2_Ex5_DetCell.xml with jLEMS, NO GUI mode...\r\n",
      "pyNeuroML >>>  jNeuroML >>  INFO Oct 22,2020 15:52  (INFO) Loading LEMS file from: C:\\Users\\naomi\\OneDrive\\Documenten\\Neurocomputing\\GitHub\\IO-temperature-dependence\\Cells\\LEMS_NML2_Ex5_DetCell.xml\n",
      "pyNeuroML >>>  jNeuroML >>  INFO Oct 22,2020 15:52  (INFO) Reading from: C:\\Users\\naomi\\OneDrive\\Documenten\\Neurocomputing\\GitHub\\IO-temperature-dependence\\Cells\\LEMS_NML2_Ex5_DetCell.xml\n",
      "pyNeuroML >>>  jNeuroML >>  INFO Oct 22,2020 15:52  (LOG)   at org.lemsml.jlems.core.logging.E.multiError(E.java:251)\n",
      "pyNeuroML >>>  jNeuroML >>  INFO Oct 22,2020 15:52  (LOG)   at org.lemsml.jlems.core.logging.E.informativeError(E.java:226)\n",
      "pyNeuroML >>>  jNeuroML >>  INFO Oct 22,2020 15:52  (LOG)   at org.lemsml.jlems.io.out.FileResultWriter.getFile(FileResultWriter.java:133)\n",
      "pyNeuroML >>>  jNeuroML >>  INFO Oct 22,2020 15:52  (LOG)   at org.lemsml.jlems.io.out.FileResultWriter.flush(FileResultWriter.java:100)\n",
      "pyNeuroML >>>  jNeuroML >>  INFO Oct 22,2020 15:52  (LOG)   at org.lemsml.jlems.io.out.FileResultWriter.advance(FileResultWriter.java:64)\n",
      "pyNeuroML >>>  jNeuroML >>  INFO Oct 22,2020 15:52  (LOG)   at org.lemsml.jlems.core.sim.Sim.run(Sim.java:293)\n",
      "pyNeuroML >>>  jNeuroML >>  INFO Oct 22,2020 15:52  (LOG)   at org.lemsml.jlems.core.sim.Sim.run(Sim.java:154)\n",
      "pyNeuroML >>>  jNeuroML >>  INFO Oct 22,2020 15:52  (LOG)   at org.lemsml.jlems.core.sim.Sim.run(Sim.java:145)\n",
      "pyNeuroML >>>  jNeuroML >>  INFO Oct 22,2020 15:52  (LOG)   at org.neuroml.export.utils.Utils.loadLemsFile(Utils.java:522)\n",
      "pyNeuroML >>>  jNeuroML >>  INFO Oct 22,2020 15:52  (LOG)   at org.neuroml.export.utils.Utils.runLemsFile(Utils.java:488)\n",
      "pyNeuroML >>>  jNeuroML >>  \n",
      "pyNeuroML >>> Error: execute_command_in_dir returned with output: None\n"
     ]
    },
    {
     "ename": "SystemExit",
     "evalue": "-1",
     "output_type": "error",
     "traceback": [
      "An exception has occurred, use %tb to see the full traceback.\n",
      "\u001b[1;31mSystemExit\u001b[0m\u001b[1;31m:\u001b[0m -1\n"
     ]
    }
   ],
   "source": [
    "import sys\n",
    "from pyneuroml import pynml\n",
    "\n",
    "#example_lems_file = 'LEMS_Vm_Test.xml'\n",
    "example_lems_file = 'LEMS_NML2_Ex5_DetCell.xml'\n",
    "\n",
    "results1 = pynml.run_lems_with_jneuroml(example_lems_file, nogui=True, load_saved_data=True)\n",
    "\n",
    "if not '-nogui' in sys.argv:\n",
    "    \n",
    "    from matplotlib import pyplot as plt\n",
    "\n",
    "    for key in results1.keys():\n",
    "\n",
    "        plt.xlabel('Time (ms)')\n",
    "        plt.ylabel('Voltage (mV)')\n",
    "        plt.grid('on')\n",
    "\n",
    "        if key != 't':\n",
    "            plt.plot(results1['t'], results1[key])\n",
    "\n",
    "plt.show()"
   ]
  }
 ],
 "metadata": {
  "kernelspec": {
   "display_name": "Python 2",
   "language": "python",
   "name": "python2"
  },
  "language_info": {
   "codemirror_mode": {
    "name": "ipython",
    "version": 2
   },
   "file_extension": ".py",
   "mimetype": "text/x-python",
   "name": "python",
   "nbconvert_exporter": "python",
   "pygments_lexer": "ipython2",
   "version": "2.7.15"
  }
 },
 "nbformat": 4,
 "nbformat_minor": 2
}
