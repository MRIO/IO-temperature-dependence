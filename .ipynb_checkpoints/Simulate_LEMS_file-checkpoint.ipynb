{
 "cells": [
  {
   "cell_type": "code",
   "execution_count": 3,
   "metadata": {},
   "outputs": [],
   "source": [
    "import sys\n",
    "from pyneuroml import pynml"
   ]
  },
  {
   "cell_type": "code",
   "execution_count": 1,
   "metadata": {},
   "outputs": [],
   "source": [
    "#example_lems_file = 'LEMS_Vm_Test.xml'\n",
    "#example_lems_file = 'LEMS_HHSim.xml'\n",
    "example_lems_file = 'LEMSfiles/LEMS_Vm_CHmyfile.xml'"
   ]
  },
  {
   "cell_type": "code",
   "execution_count": 4,
   "metadata": {},
   "outputs": [
    {
     "name": "stdout",
     "output_type": "stream",
     "text": [
      "pyNeuroML >>> *** Problem running command: \n",
      "pyNeuroML >>>        Command 'java -Xmx400M  -jar  \"C:\\Users\\naomi\\AppData\\Local\\Miniconda3\\envs\\neuroMLenv27\\lib\\site-packages\\pyneuroml\\lib\\jNeuroML-0.10.0-jar-with-dependencies.jar\"  \"LEMSfiles/LEMS_Vm_CHmyfile.xml\" ' returned non-zero exit status 1\n",
      "pyNeuroML >>>  jNeuroML >>   jNeuroML v0.10.0\r\n",
      "pyNeuroML >>>  jNeuroML >>  Loading: C:\\Users\\naomi\\OneDrive\\Documenten\\Neurocomputing\\GitHub\\IO-temperature-dependence\\Cells\\LEMSfiles\\LEMS_Vm_CHmyfile.xml with jLEMS...\r\n",
      "pyNeuroML >>>  jNeuroML >>  INFO Oct 15,2020 15:49  (INFO) Loading LEMS file from: C:\\Users\\naomi\\OneDrive\\Documenten\\Neurocomputing\\GitHub\\IO-temperature-dependence\\Cells\\LEMSfiles\\LEMS_Vm_CHmyfile.xml\n",
      "pyNeuroML >>>  jNeuroML >>  INFO Oct 15,2020 15:49  (INFO) Reading from: C:\\Users\\naomi\\OneDrive\\Documenten\\Neurocomputing\\GitHub\\IO-temperature-dependence\\Cells\\LEMSfiles\\LEMS_Vm_CHmyfile.xml\n",
      "pyNeuroML >>>  jNeuroML >>  INFO Oct 15,2020 15:49  (LOG)   at org.lemsml.jlems.core.logging.E.multiError(E.java:251)\n",
      "pyNeuroML >>>  jNeuroML >>  INFO Oct 15,2020 15:49  (LOG)   at org.lemsml.jlems.core.logging.E.error(E.java:217)\n",
      "pyNeuroML >>>  jNeuroML >>  INFO Oct 15,2020 15:49  (LOG)   at org.lemsml.jlems.core.sim.AbstractInclusionReader.trimOuterElement(AbstractInclusionReader.java:113)\n",
      "pyNeuroML >>>  jNeuroML >>  INFO Oct 15,2020 15:49  (LOG)   at org.lemsml.jlems.core.sim.AbstractInclusionReader.getIncludeContent(AbstractInclusionReader.java:43)\n",
      "pyNeuroML >>>  jNeuroML >>  INFO Oct 15,2020 15:49  (LOG)   at org.neuroml.export.utils.NeuroMLInclusionReader.insertIncludes(NeuroMLInclusionReader.java:93)\n",
      "pyNeuroML >>>  jNeuroML >>  INFO Oct 15,2020 15:49  (LOG)   at org.lemsml.jlems.core.sim.AbstractInclusionReader.getIncludeContent(AbstractInclusionReader.java:42)\n",
      "pyNeuroML >>>  jNeuroML >>  INFO Oct 15,2020 15:49  (LOG)   at org.neuroml.export.utils.NeuroMLInclusionReader.insertIncludes(NeuroMLInclusionReader.java:93)\n",
      "pyNeuroML >>>  jNeuroML >>  INFO Oct 15,2020 15:49  (LOG)   at org.lemsml.jlems.core.sim.AbstractInclusionReader.getIncludeContent(AbstractInclusionReader.java:42)\n",
      "pyNeuroML >>>  jNeuroML >>  INFO Oct 15,2020 15:49  (LOG)   at org.lemsml.jlems.core.sim.AbstractInclusionReader.insertIncludes(AbstractInclusionReader.java:71)\n",
      "pyNeuroML >>>  jNeuroML >>  INFO Oct 15,2020 15:49  (LOG)   at org.neuroml.export.utils.NeuroMLInclusionReader.insertIncludes(NeuroMLInclusionReader.java:102)\n",
      "pyNeuroML >>>  jNeuroML >>  \n",
      "pyNeuroML >>> Error: execute_command_in_dir returned with output: None\n"
     ]
    },
    {
     "ename": "SystemExit",
     "evalue": "-1",
     "output_type": "error",
     "traceback": [
      "An exception has occurred, use %tb to see the full traceback.\n",
      "\u001b[1;31mSystemExit\u001b[0m\u001b[1;31m:\u001b[0m -1\n"
     ]
    },
    {
     "name": "stderr",
     "output_type": "stream",
     "text": [
      "C:\\Users\\naomi\\AppData\\Local\\Miniconda3\\envs\\neuroMLenv27\\lib\\site-packages\\IPython\\core\\interactiveshell.py:2886: UserWarning: To exit: use 'exit', 'quit', or Ctrl-D.\n",
      "  warn(\"To exit: use 'exit', 'quit', or Ctrl-D.\", stacklevel=1)\n"
     ]
    }
   ],
   "source": [
    "results1 = pynml.run_lems_with_jneuroml(example_lems_file, \n",
    "                                        nogui=False, \n",
    "                                        load_saved_data=True)\n",
    "\n",
    "if not '-nogui' in sys.argv:\n",
    "    \n",
    "    from matplotlib import pyplot as plt\n",
    "\n",
    "    for key in results1.keys():\n",
    "\n",
    "        plt.xlabel('Time (ms)')\n",
    "        plt.ylabel('...')\n",
    "        plt.grid('on')\n",
    "\n",
    "        if key != 't':\n",
    "            plt.plot(results1['t'], results1[key])\n",
    "\n",
    "plt.show()"
   ]
  }
 ],
 "metadata": {
  "kernelspec": {
   "display_name": "Python 2",
   "language": "python",
   "name": "python2"
  },
  "language_info": {
   "codemirror_mode": {
    "name": "ipython",
    "version": 2
   },
   "file_extension": ".py",
   "mimetype": "text/x-python",
   "name": "python",
   "nbconvert_exporter": "python",
   "pygments_lexer": "ipython2",
   "version": "2.7.15"
  }
 },
 "nbformat": 4,
 "nbformat_minor": 4
}
