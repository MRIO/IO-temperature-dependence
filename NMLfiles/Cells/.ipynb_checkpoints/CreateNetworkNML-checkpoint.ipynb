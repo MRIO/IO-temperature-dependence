{
 "cells": [
  {
   "cell_type": "code",
   "execution_count": null,
   "metadata": {},
   "outputs": [],
   "source": [
    "cellName = \"C51B\"\n",
    "i = 35\n",
    "nml_doc = nml.NeuroMLDocument(id=\"net\")\n",
    "\n",
    "#Include cell file\n",
    "incl = nml.IncludeType(href=cellName+\"_scaled_exp_resample_5.cell.nml\")\n",
    "nml_doc.includes.append(incl)\n",
    "\n",
    "#Create network\n",
    "net = nml.Network(id=\"net\", type=\"networkWithTemperature\", temperature=str(i)+\"degC\")\n",
    "nml_doc.networks.append(net)\n",
    "\n",
    "#Create population\n",
    "pop = nml.Population(id=\"pop\", component=cellName, type=\"populationList\", size=\"1\")\n",
    "net.populations.append(pop)\n",
    "\n",
    "loc = nml.Location(x=\"0\", y=\"0\", z=\"0\")\n",
    "\n",
    "inst = nml.Instance(id=\"0\", location=loc)\n",
    "pop.instances.append(inst)\n",
    "  \n",
    "#Create pulse generator\n",
    "t_delay = 200\n",
    "t_duration = 50\n",
    "    \n",
    "pg = nml.PulseGenerator(id=\"iclamp0\", delay=str(t_delay)+\"ms\", duration=str(t_duration)+\"ms\", amplitude=\"-1nA\")\n",
    "nml_doc.pulse_generators.append(pg)\n",
    "\n",
    "#Add pg to cell\n",
    "il = nml.InputList(id=\"clamps\", component=pg.id, populations=\"pop\")\n",
    "ip = nml.Input(id=\"0\", target=\"../pop/0/\"+str(cellName), segmentId=\"0\", destination=\"synapses\")\n",
    "il.input.append(ip)\n",
    "net.input_lists.append(il)\n",
    "\n",
    "#Write NML file\n",
    "nml_file = \"nml_\"+cellName+\".net.nml\"\n",
    "writers.NeuroMLWriter.write(nml_doc, nml_file)"
   ]
  }
 ],
 "metadata": {
  "kernelspec": {
   "display_name": "Python 3",
   "language": "python",
   "name": "python3"
  },
  "language_info": {
   "codemirror_mode": {
    "name": "ipython",
    "version": 3
   },
   "file_extension": ".py",
   "mimetype": "text/x-python",
   "name": "python",
   "nbconvert_exporter": "python",
   "pygments_lexer": "ipython3",
   "version": "3.8.5"
  }
 },
 "nbformat": 4,
 "nbformat_minor": 4
}
